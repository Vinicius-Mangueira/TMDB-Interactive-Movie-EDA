{
 "cells": [
  {
   "cell_type": "markdown",
   "id": "26e758af",
   "metadata": {},
   "source": [
    "# 🎬 TMDB Interactive Movie EDA\n",
    "\n",
    "**Author:** Vinícius Mangueira  \n",
    "**Date:** May 13, 2025  \n",
    "**Context:**  \n",
    "This notebook demonstrates a full end-to-end Exploratory Data Analysis (EDA) workflow using the TMDB API. You’ll see everything from raw data ingestion and storage, through cleaning and transformation, to interactive visualizations that surface insights about popular movies.\n",
    "\n",
    "---\n",
    "\n",
    "## Objectives\n",
    "\n",
    "1. **Extract** popular movie data directly from the TMDB API.  \n",
    "2. **Persist** raw JSON responses to ensure reproducibility.  \n",
    "3. **Clean** and **prepare** a pandas DataFrame ready for analysis.  \n",
    "4. **Explore** rating distributions, release trends, and genre popularity.  \n",
    "5. **Interact** with visualizations via widgets to support dynamic decision‑making.\n",
    "\n",
    "---\n",
    "\n",
    "## Notebook Structure\n",
    "\n",
    "1. **Environment Setup** – Install dependencies and load environment variables.  \n",
    "2. **Data Acquisition** – Functions and loops to fetch and save JSON payloads.  \n",
    "3. **Data Cleaning** – Pandas transformations to produce a “clean” DataFrame.  \n",
    "4. **EDA** – Static and interactive charts with Plotly Express.  \n",
    "5. **Insights** – Key findings and patterns observed.  \n",
    "6. **Deployment** – Turning this notebook into a dashboard with Voila.\n",
    "\n",
    "> 💡 **Tip:** Use the table of contents on the side to navigate sections, and adjust widget parameters to explore different perspectives on the data.\n",
    "\n",
    "---\n"
   ]
  },
  {
   "cell_type": "markdown",
   "id": "80ffa519",
   "metadata": {},
   "source": [
    "**🔒 Best Practices**  \n",
    "- Uses `python-dotenv` to protect API keys and keep repo clean  \n",
    "- Fails early with `assert` if configuration is missing  \n",
    "- Comments installation lines for seamless teammate onboarding  \n"
   ]
  },
  {
   "cell_type": "code",
   "execution_count": 1,
   "id": "3fd45ef2",
   "metadata": {},
   "outputs": [],
   "source": [
    "#Import the necessary libraries\n",
    "# -*- coding: utf-8 -*-\n",
    "import os\n",
    "import json\n",
    "from pathlib import Path\n",
    "import requests\n",
    "from dotenv import load_dotenv\n",
    "import time\n",
    "import pandas as pd\n",
    "import plotly.express as px\n",
    "import ipywidgets as widgets\n",
    "from IPython.display import display\n",
    "\n",
    "\n",
    "# Loading environment variables from .env file\n",
    "# This is necessary to use the TMDB API key\n",
    "load_dotenv()  \n",
    "TMDB_BEARER = os.getenv('TMDB_BEARER')\n",
    "assert TMDB_BEARER, \"Erro: defina TMDB_BEARER no seu .env com o token de leitura (v4)\"\n"
   ]
  },
  {
   "cell_type": "markdown",
   "id": "58e3f6ed",
   "metadata": {},
   "source": [
    "**🔧 Engineering Rigor**  \n",
    "- Abstracted API logic into a reusable function for easy testing  \n",
    "- Loops through pages with on‑disk JSON snapshots for full reproducibility  \n",
    "- Uses `pathlib` for cross‑platform, robust path handling  \n"
   ]
  },
  {
   "cell_type": "code",
   "execution_count": 2,
   "id": "73c2ad3c",
   "metadata": {},
   "outputs": [
    {
     "name": "stdout",
     "output_type": "stream",
     "text": [
      "🔎 Total pages available: 50316\n",
      "📥 Will fetch pages 1 through 50\n",
      "🎬 1000 movies already on disk\n",
      "⚠ Page 1: no new movies, skipping\n",
      "⚠ Page 2: no new movies, skipping\n",
      "⚠ Page 3: no new movies, skipping\n",
      "⚠ Page 4: no new movies, skipping\n",
      "⚠ Page 5: no new movies, skipping\n",
      "⚠ Page 6: no new movies, skipping\n",
      "⚠ Page 7: no new movies, skipping\n",
      "⚠ Page 8: no new movies, skipping\n",
      "⚠ Page 9: no new movies, skipping\n",
      "⚠ Page 10: no new movies, skipping\n",
      "⚠ Page 11: no new movies, skipping\n",
      "⚠ Page 12: no new movies, skipping\n",
      "⚠ Page 13: no new movies, skipping\n",
      "⚠ Page 14: no new movies, skipping\n",
      "⚠ Page 15: no new movies, skipping\n",
      "⚠ Page 16: no new movies, skipping\n",
      "⚠ Page 17: no new movies, skipping\n",
      "⚠ Page 18: no new movies, skipping\n",
      "⚠ Page 19: no new movies, skipping\n",
      "⚠ Page 20: no new movies, skipping\n",
      "⚠ Page 21: no new movies, skipping\n",
      "⚠ Page 22: no new movies, skipping\n",
      "⚠ Page 23: no new movies, skipping\n",
      "⚠ Page 24: no new movies, skipping\n",
      "⚠ Page 25: no new movies, skipping\n",
      "⚠ Page 26: no new movies, skipping\n",
      "⚠ Page 27: no new movies, skipping\n",
      "⚠ Page 28: no new movies, skipping\n",
      "⚠ Page 29: no new movies, skipping\n",
      "⚠ Page 30: no new movies, skipping\n",
      "⚠ Page 31: no new movies, skipping\n",
      "⚠ Page 32: no new movies, skipping\n",
      "⚠ Page 33: no new movies, skipping\n",
      "⚠ Page 34: no new movies, skipping\n",
      "⚠ Page 35: no new movies, skipping\n",
      "⚠ Page 36: no new movies, skipping\n",
      "⚠ Page 37: no new movies, skipping\n",
      "⚠ Page 38: no new movies, skipping\n",
      "⚠ Page 39: no new movies, skipping\n",
      "⚠ Page 40: no new movies, skipping\n",
      "⚠ Page 41: no new movies, skipping\n",
      "⚠ Page 42: no new movies, skipping\n",
      "⚠ Page 43: no new movies, skipping\n",
      "⚠ Page 44: no new movies, skipping\n",
      "⚠ Page 45: no new movies, skipping\n",
      "⚠ Page 46: no new movies, skipping\n",
      "⚠ Page 47: no new movies, skipping\n",
      "⚠ Page 48: no new movies, skipping\n",
      "⚠ Page 49: no new movies, skipping\n",
      "⚠ Page 50: no new movies, skipping\n",
      "🎉 Total new movies fetched: 0\n"
     ]
    }
   ],
   "source": [
    "\n",
    "# Delay between API requests (in seconds)\n",
    "delay_seconds = 1  # adjust as needed\n",
    "\n",
    "# Load the Bearer Token (v4)\n",
    "load_dotenv()\n",
    "TMDB_BEARER = os.getenv('TMDB_BEARER')\n",
    "assert TMDB_BEARER, \"Error: set TMDB_BEARER in your .env file with the v4 token\"\n",
    "\n",
    "headers = {\n",
    "    'Authorization': f'Bearer {TMDB_BEARER}',\n",
    "    'Content-Type': 'application/json;charset=utf-8'\n",
    "}\n",
    "\n",
    "def fetch_page(page=1):\n",
    "    url = \"https://api.themoviedb.org/3/movie/popular\"\n",
    "    params = {'language': 'en-US', 'page': page}\n",
    "    r = requests.get(url, headers=headers, params=params)\n",
    "    r.raise_for_status()\n",
    "    return r.json()\n",
    "\n",
    "# 1) Discover how many total pages are available\n",
    "first = fetch_page(1)\n",
    "total_pages = first['total_pages']\n",
    "print(f\"🔎 Total pages available: {total_pages}\")\n",
    "\n",
    "# 2) Set how many pages to fetch (limit)\n",
    "max_pages = 50  # adjust your limit\n",
    "pages_to_fetch = min(total_pages, max_pages)\n",
    "print(f\"📥 Will fetch pages 1 through {pages_to_fetch}\")\n",
    "\n",
    "# 3) Load already existing movie IDs from data/raw/\n",
    "raw_folder = Path(\"data/raw\")\n",
    "raw_folder.mkdir(parents=True, exist_ok=True)\n",
    "existing_ids = set()\n",
    "for f in raw_folder.glob(\"popular_page_*.json\"):\n",
    "    with open(f, encoding=\"utf-8\") as fh:\n",
    "        data = json.load(fh)\n",
    "        existing_ids.update([m['id'] for m in data])\n",
    "print(f\"🎬 {len(existing_ids)} movies already on disk\")\n",
    "\n",
    "# 4) Download loop with delay and avoiding duplicates\n",
    "movies_raw = []\n",
    "for p in range(1, pages_to_fetch + 1):\n",
    "    page_data = fetch_page(p)\n",
    "    time.sleep(delay_seconds)\n",
    "    new_chunk = [m for m in page_data['results'] if m['id'] not in existing_ids]\n",
    "    if not new_chunk:\n",
    "        print(f\"⚠ Page {p}: no new movies, skipping\")\n",
    "        continue\n",
    "    # Save raw JSON\n",
    "    with open(raw_folder / f\"popular_page_{p}.json\", \"w\", encoding=\"utf-8\") as f:\n",
    "        json.dump(new_chunk, f, ensure_ascii=False, indent=2)\n",
    "    movies_raw.extend(new_chunk)\n",
    "    existing_ids.update([m['id'] for m in new_chunk])\n",
    "    print(f\"✅ Page {p}: fetched {len(new_chunk)} new movies\")\n",
    "\n",
    "print(f\"🎉 Total new movies fetched: {len(movies_raw)}\")\n",
    "\n"
   ]
  },
  {
   "cell_type": "markdown",
   "id": "8c0b602a",
   "metadata": {},
   "source": [
    "> **🛠 Data Engineering Excellence**  \n",
    "> - Drops duplicates to maintain data integrity  \n",
    "> - Employs vectorized Pandas operations for speed  \n",
    "> - Builds genre map from live API for future‑proofing  "
   ]
  },
  {
   "cell_type": "code",
   "execution_count": 3,
   "id": "2f2535db",
   "metadata": {},
   "outputs": [
    {
     "data": {
      "text/html": [
       "<div>\n",
       "<style scoped>\n",
       "    .dataframe tbody tr th:only-of-type {\n",
       "        vertical-align: middle;\n",
       "    }\n",
       "\n",
       "    .dataframe tbody tr th {\n",
       "        vertical-align: top;\n",
       "    }\n",
       "\n",
       "    .dataframe thead th {\n",
       "        text-align: right;\n",
       "    }\n",
       "</style>\n",
       "<table border=\"1\" class=\"dataframe\">\n",
       "  <thead>\n",
       "    <tr style=\"text-align: right;\">\n",
       "      <th></th>\n",
       "      <th>id</th>\n",
       "      <th>title</th>\n",
       "      <th>release_date</th>\n",
       "      <th>popularity</th>\n",
       "      <th>vote_average</th>\n",
       "      <th>genre_ids</th>\n",
       "      <th>genres</th>\n",
       "    </tr>\n",
       "  </thead>\n",
       "  <tbody>\n",
       "    <tr>\n",
       "      <th>0</th>\n",
       "      <td>1241436</td>\n",
       "      <td>Warfare</td>\n",
       "      <td>2025-04-09</td>\n",
       "      <td>485.3223</td>\n",
       "      <td>7.158</td>\n",
       "      <td>(10752, 28)</td>\n",
       "      <td>[War, Action]</td>\n",
       "    </tr>\n",
       "    <tr>\n",
       "      <th>1</th>\n",
       "      <td>950387</td>\n",
       "      <td>A Minecraft Movie</td>\n",
       "      <td>2025-03-31</td>\n",
       "      <td>409.3111</td>\n",
       "      <td>6.300</td>\n",
       "      <td>(10751, 35, 12, 14)</td>\n",
       "      <td>[Family, Comedy, Adventure, Fantasy]</td>\n",
       "    </tr>\n",
       "    <tr>\n",
       "      <th>2</th>\n",
       "      <td>977294</td>\n",
       "      <td>Tin Soldier</td>\n",
       "      <td>2025-05-22</td>\n",
       "      <td>383.4020</td>\n",
       "      <td>0.000</td>\n",
       "      <td>(28, 53)</td>\n",
       "      <td>[Action, Thriller]</td>\n",
       "    </tr>\n",
       "    <tr>\n",
       "      <th>3</th>\n",
       "      <td>1144430</td>\n",
       "      <td>Last Bullet</td>\n",
       "      <td>2025-05-06</td>\n",
       "      <td>377.9668</td>\n",
       "      <td>6.821</td>\n",
       "      <td>(28, 80, 53)</td>\n",
       "      <td>[Action, Crime, Thriller]</td>\n",
       "    </tr>\n",
       "    <tr>\n",
       "      <th>4</th>\n",
       "      <td>447273</td>\n",
       "      <td>Snow White</td>\n",
       "      <td>2025-03-12</td>\n",
       "      <td>313.0346</td>\n",
       "      <td>4.365</td>\n",
       "      <td>(10751, 14)</td>\n",
       "      <td>[Family, Fantasy]</td>\n",
       "    </tr>\n",
       "  </tbody>\n",
       "</table>\n",
       "</div>"
      ],
      "text/plain": [
       "        id              title release_date  popularity  vote_average  \\\n",
       "0  1241436            Warfare   2025-04-09    485.3223         7.158   \n",
       "1   950387  A Minecraft Movie   2025-03-31    409.3111         6.300   \n",
       "2   977294        Tin Soldier   2025-05-22    383.4020         0.000   \n",
       "3  1144430        Last Bullet   2025-05-06    377.9668         6.821   \n",
       "4   447273         Snow White   2025-03-12    313.0346         4.365   \n",
       "\n",
       "             genre_ids                                genres  \n",
       "0          (10752, 28)                         [War, Action]  \n",
       "1  (10751, 35, 12, 14)  [Family, Comedy, Adventure, Fantasy]  \n",
       "2             (28, 53)                    [Action, Thriller]  \n",
       "3         (28, 80, 53)             [Action, Crime, Thriller]  \n",
       "4          (10751, 14)                     [Family, Fantasy]  "
      ]
     },
     "execution_count": 3,
     "metadata": {},
     "output_type": "execute_result"
    }
   ],
   "source": [
    "# Load raw JSON data from files\n",
    "raw_folder = Path(\"data/raw\")\n",
    "all_movies = []\n",
    "for file in raw_folder.glob(\"popular_page_*.json\"):\n",
    "    with open(file, encoding='utf-8') as f:\n",
    "        all_movies.extend(json.load(f))\n",
    "\n",
    "# Convert to DataFrame\n",
    "df = pd.DataFrame(all_movies)\n",
    "\n",
    "# Keep relevant columns and drop duplicates (by unique ID)\n",
    "# Convert genre_ids list to tuple for consistency\n",
    "if df['genre_ids'].apply(lambda x: isinstance(x, list)).any():\n",
    "    df['genre_ids'] = df['genre_ids'].apply(lambda ids: tuple(ids))\n",
    "df = df[['id', 'title', 'release_date', 'popularity', 'vote_average', 'genre_ids']]\n",
    "# Drop duplicates based on 'id'\n",
    "df = df.drop_duplicates(subset=['id'])\n",
    "\n",
    "# Parse 'release_date' to datetime and drop missing to datetime and drop missing\n",
    "df['release_date'] = pd.to_datetime(df['release_date'], errors='coerce')\n",
    "df = df.dropna(subset=['release_date'])\n",
    "\n",
    "# Fetch genre map\n",
    "genre_resp = requests.get(\n",
    "    \"https://api.themoviedb.org/3/genre/movie/list\",\n",
    "    headers=headers,\n",
    "    params={'language': 'en-US'}\n",
    ").json()\n",
    "genre_map = {g['id']: g['name'] for g in genre_resp['genres']}\n",
    "\n",
    "# Map genre IDs to names\n",
    "\n",
    "def map_genres(ids):\n",
    "    return [genre_map.get(i, \"Unknown\") for i in ids]\n",
    "\n",
    "df['genres'] = df['genre_ids'].apply(map_genres)\n",
    "\n",
    "# Explode 'genres' for per-genre analysis\n",
    "df_exploded = df.explode('genres')\n",
    "\n",
    "# Preview cleaned DataFrame\n",
    "df.head()"
   ]
  },
  {
   "cell_type": "markdown",
   "id": "c447fbb3",
   "metadata": {},
   "source": [
    "## 📊 4. Interactive & Holistic Exploratory Data Analysis\n",
    "\n",
    "> In this section, I combine rigorous statistical methods, interactive visualizations, and narrative-driven storytelling to extract actionable insights from 60+ TMDB movies.\n",
    "\n",
    "- **Multi‑Modal Visualization**: Histograms, boxplots, time‑series, and bar charts—fully interactive with Plotly for real‑time exploration.  \n",
    "- **Clean Data Pipeline**: End‑to‑end flow from raw API JSON to pandas cleaning, date parsing, dynamic genre mapping, and artifact versioning.  \n",
    "- **Stakeholder‑Centric**: Clear titles, labeled axes, and “why this matters” annotations that translate data patterns into business impact.  \n",
    "- **User Empowerment**: Integrated `ipywidgets` slider & dropdown for on‑the‑fly filtering by year and genre—ideal for non‑technical audiences.  \n",
    "- **Reproducibility & Scalability**: Modular functions and Git‑ignored `data/raw` & `data/processed` directories ensure audit‑friendly, production‑grade workflows.\n",
    "\n",
    "> *Showcases technical fluency, data storytelling acumen, and best practices for end‑to‑end analytics.*  \n"
   ]
  },
  {
   "cell_type": "markdown",
   "id": "cf07c346",
   "metadata": {},
   "source": [
    "### 4.1 ⭐ Rating Distribution  \n",
    "**🔍 Insightful Distribution Analysis**  \n",
    "- Combines histogram and boxplot to reveal central tendencies, dispersion, and outliers in movie ratings  \n",
    "- `nbins=20` balances granularity vs. readability for spotting rating clusters  \n",
    "- Interactive Plotly visuals allow stakeholders to hover for exact counts and quartiles  \n"
   ]
  },
  {
   "cell_type": "code",
   "execution_count": 4,
   "id": "bbe83ad8",
   "metadata": {},
   "outputs": [
    {
     "data": {
      "text/html": [
       "<iframe\n",
       "    scrolling=\"no\"\n",
       "    width=\"100%\"\n",
       "    height=\"545px\"\n",
       "    src=\"iframe_figures/figure_4.html\"\n",
       "    frameborder=\"0\"\n",
       "    allowfullscreen\n",
       "></iframe>\n"
      ]
     },
     "metadata": {},
     "output_type": "display_data"
    },
    {
     "data": {
      "text/html": [
       "<iframe\n",
       "    scrolling=\"no\"\n",
       "    width=\"100%\"\n",
       "    height=\"545px\"\n",
       "    src=\"iframe_figures/figure_4.html\"\n",
       "    frameborder=\"0\"\n",
       "    allowfullscreen\n",
       "></iframe>\n"
      ]
     },
     "metadata": {},
     "output_type": "display_data"
    }
   ],
   "source": [
    "\n",
    "# Configure Plotly renderer to 'notebook_connected' to avoid nbformat errors\n",
    "import plotly.io as pio\n",
    "pio.renderers.default = 'notebook_connected'  # alternative renderer\n",
    "pio.renderers.default = 'iframe_connected'\n",
    "\n",
    "fig = px.histogram(df, x='vote_average', nbins=20, title='Distribution of Movie Ratings')\n",
    "fig.show()\n",
    "\n",
    "fig_box = px.box(df, y='vote_average', title='Boxplot of Movie Ratings')\n",
    "fig_box.show()"
   ]
  },
  {
   "cell_type": "markdown",
   "id": "b0a6ce5b",
   "metadata": {},
   "source": [
    "### 4.2 ⏳ Release Trends by Year  \n",
    "**📈 Temporal Trend Detection**  \n",
    "- Converts `release_date` to a numeric `year` field for time‑series grouping  \n",
    "- Line chart highlights production spikes/dips, enabling correlation with industry events  \n",
    "- Clear axis labels and titles make it presentation‑ready for executive meetings  \n"
   ]
  },
  {
   "cell_type": "code",
   "execution_count": 5,
   "id": "fafd445c",
   "metadata": {},
   "outputs": [
    {
     "data": {
      "text/html": [
       "<iframe\n",
       "    scrolling=\"no\"\n",
       "    width=\"100%\"\n",
       "    height=\"545px\"\n",
       "    src=\"iframe_figures/figure_5.html\"\n",
       "    frameborder=\"0\"\n",
       "    allowfullscreen\n",
       "></iframe>\n"
      ]
     },
     "metadata": {},
     "output_type": "display_data"
    }
   ],
   "source": [
    "df['year'] = df['release_date'].dt.year\n",
    "time_series = df.groupby('year').size().reset_index(name='count')\n",
    "fig_ts = px.line(time_series, x='year', y='count', title='Number of Movies Released per Year')\n",
    "fig_ts.show()"
   ]
  },
  {
   "cell_type": "markdown",
   "id": "b5c68b61",
   "metadata": {},
   "source": [
    "### 4.3 🎯 Genre Popularity  \n",
    "**📊 Genre Demand Profiling**  \n",
    "- Explodes multi‑genre lists to capture each film’s full genre footprint  \n",
    "- Bar chart with categorical x‑axis enforces logical ordering for comparison  \n",
    "- Identifies high‑value genres to inform content strategy, recommendation engines, and marketing  \n"
   ]
  },
  {
   "cell_type": "code",
   "execution_count": 6,
   "id": "54ff6dd1",
   "metadata": {},
   "outputs": [
    {
     "data": {
      "text/html": [
       "<iframe\n",
       "    scrolling=\"no\"\n",
       "    width=\"100%\"\n",
       "    height=\"545px\"\n",
       "    src=\"iframe_figures/figure_6.html\"\n",
       "    frameborder=\"0\"\n",
       "    allowfullscreen\n",
       "></iframe>\n"
      ]
     },
     "metadata": {},
     "output_type": "display_data"
    }
   ],
   "source": [
    "genre_counts = df_exploded['genres'].value_counts().reset_index()\n",
    "genre_counts.columns = ['genre', 'count']\n",
    "fig_bar = px.bar(genre_counts, x='genre', y='count', title='Movies per Genre')\n",
    "fig_bar.update_xaxes(type='category')\n",
    "fig_bar.show()"
   ]
  },
  {
   "cell_type": "markdown",
   "id": "257a2fa3",
   "metadata": {},
   "source": [
    "**💡 User‑Driven Insights**  \n",
    "- Integrates `ipywidgets` for slider and dropdown filters  \n",
    "- Separates UI declaration from update logic for clean code  \n",
    "- Delivers real‑time scatter plots ideal for stakeholder demos or workshops  \n"
   ]
  },
  {
   "cell_type": "code",
   "execution_count": 7,
   "id": "c996cea1",
   "metadata": {},
   "outputs": [
    {
     "ename": "TypeError",
     "evalue": "'<' not supported between instances of 'float' and 'str'",
     "output_type": "error",
     "traceback": [
      "\u001b[31m---------------------------------------------------------------------------\u001b[39m",
      "\u001b[31mTypeError\u001b[39m                                 Traceback (most recent call last)",
      "\u001b[36mCell\u001b[39m\u001b[36m \u001b[39m\u001b[32mIn[7]\u001b[39m\u001b[32m, line 8\u001b[39m\n\u001b[32m      1\u001b[39m \u001b[38;5;66;03m# Create widgets\u001b[39;00m\n\u001b[32m      2\u001b[39m year_slider = widgets.IntRangeSlider(\n\u001b[32m      3\u001b[39m     value=[df[\u001b[33m'\u001b[39m\u001b[33myear\u001b[39m\u001b[33m'\u001b[39m].min(), df[\u001b[33m'\u001b[39m\u001b[33myear\u001b[39m\u001b[33m'\u001b[39m].max()],\n\u001b[32m      4\u001b[39m     \u001b[38;5;28mmin\u001b[39m=df[\u001b[33m'\u001b[39m\u001b[33myear\u001b[39m\u001b[33m'\u001b[39m].min(), \u001b[38;5;28mmax\u001b[39m=df[\u001b[33m'\u001b[39m\u001b[33myear\u001b[39m\u001b[33m'\u001b[39m].max(), step=\u001b[32m1\u001b[39m,\n\u001b[32m      5\u001b[39m     description=\u001b[33m'\u001b[39m\u001b[33mYear Range:\u001b[39m\u001b[33m'\u001b[39m\n\u001b[32m      6\u001b[39m )\n\u001b[32m      7\u001b[39m genre_dropdown = widgets.Dropdown(\n\u001b[32m----> \u001b[39m\u001b[32m8\u001b[39m     options=[\u001b[33m'\u001b[39m\u001b[33mAll\u001b[39m\u001b[33m'\u001b[39m] + \u001b[38;5;28;43msorted\u001b[39;49m\u001b[43m(\u001b[49m\u001b[43mdf_exploded\u001b[49m\u001b[43m[\u001b[49m\u001b[33;43m'\u001b[39;49m\u001b[33;43mgenres\u001b[39;49m\u001b[33;43m'\u001b[39;49m\u001b[43m]\u001b[49m\u001b[43m.\u001b[49m\u001b[43munique\u001b[49m\u001b[43m(\u001b[49m\u001b[43m)\u001b[49m\u001b[43m)\u001b[49m,\n\u001b[32m      9\u001b[39m     value=\u001b[33m'\u001b[39m\u001b[33mAll\u001b[39m\u001b[33m'\u001b[39m, description=\u001b[33m'\u001b[39m\u001b[33mGenre:\u001b[39m\u001b[33m'\u001b[39m\n\u001b[32m     10\u001b[39m )\n\u001b[32m     12\u001b[39m \u001b[38;5;66;03m# Define update function\u001b[39;00m\n\u001b[32m     13\u001b[39m \u001b[38;5;28;01mdef\u001b[39;00m\u001b[38;5;250m \u001b[39m\u001b[34mupdate_plots\u001b[39m(year_range, genre):\n",
      "\u001b[31mTypeError\u001b[39m: '<' not supported between instances of 'float' and 'str'"
     ]
    }
   ],
   "source": [
    "# Create widgets\n",
    "year_slider = widgets.IntRangeSlider(\n",
    "    value=[df['year'].min(), df['year'].max()],\n",
    "    min=df['year'].min(), max=df['year'].max(), step=1,\n",
    "    description='Year Range:'\n",
    ")\n",
    "genre_dropdown = widgets.Dropdown(\n",
    "    options=['All'] + sorted(df_exploded['genres'].unique()),\n",
    "    value='All', description='Genre:'\n",
    ")\n",
    "\n",
    "# Define update function\n",
    "def update_plots(year_range, genre):\n",
    "    filtered = df_exploded[(df_exploded['year'] >= year_range[0]) & (df_exploded['year'] <= year_range[1])]\n",
    "    if genre != 'All':\n",
    "        filtered = filtered[filtered['genres'] == genre]\n",
    "    scatter = px.scatter(\n",
    "        filtered, x='popularity', y='vote_average', hover_data=['title', 'release_date'],\n",
    "        title=f'Popularity vs Rating ({genre}, {year_range[0]}–{year_range[1]})'\n",
    "    )\n",
    "    scatter.show()\n",
    "\n",
    "# Display interactive controls\n",
    "ui = widgets.interactive_output(\n",
    "    update_plots,\n",
    "    {'year_range': year_slider, 'genre': genre_dropdown}\n",
    ")\n",
    "display(widgets.VBox([year_slider, genre_dropdown]), ui)"
   ]
  }
 ],
 "metadata": {
  "kernelspec": {
   "display_name": "venv",
   "language": "python",
   "name": "python3"
  },
  "language_info": {
   "codemirror_mode": {
    "name": "ipython",
    "version": 3
   },
   "file_extension": ".py",
   "mimetype": "text/x-python",
   "name": "python",
   "nbconvert_exporter": "python",
   "pygments_lexer": "ipython3",
   "version": "3.13.3"
  }
 },
 "nbformat": 4,
 "nbformat_minor": 5
}
